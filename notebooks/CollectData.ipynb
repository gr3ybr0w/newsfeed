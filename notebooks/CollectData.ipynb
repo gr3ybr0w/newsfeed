{
 "cells": [
  {
   "cell_type": "code",
   "execution_count": 1,
   "metadata": {},
   "outputs": [],
   "source": [
    "import numpy as np\n",
    "import pandas as pd\n",
    "\n",
    "import pandas_datareader.data as web\n",
    "from pandas_datareader import wb\n",
    "\n",
    "import dask\n",
    "import dask.dataframe as dd\n",
    "\n",
    "import datetime\n",
    "\n",
    "import requests\n",
    "from zipfile import ZipFile\n",
    "\n",
    "import os"
   ]
  },
  {
   "cell_type": "code",
   "execution_count": 2,
   "metadata": {},
   "outputs": [],
   "source": [
    "def worldBandData(indicator, endDate, col_name):\n",
    "    \"\"\"\n",
    "    \n",
    "    \"\"\"\n",
    "    df = wb.download(country='All', indicator=indicator, start=1960, end=endDate)\n",
    "    df.columns = ['GDP_growth_annual_perc']\n",
    "    return df"
   ]
  },
  {
   "cell_type": "code",
   "execution_count": 3,
   "metadata": {},
   "outputs": [],
   "source": [
    "def stooqData(indicator):\n",
    "    \"\"\"\n",
    "    \n",
    "    \"\"\"\n",
    "    df = web.DataReader(indicator, 'stooq')\n",
    "    \n",
    "    return df"
   ]
  },
  {
   "cell_type": "code",
   "execution_count": 4,
   "metadata": {},
   "outputs": [],
   "source": [
    "def loadDataSouces():\n",
    "    df = pd.read_csv('../data/raw/dataSource.csv')\n",
    "    return df"
   ]
  },
  {
   "cell_type": "code",
   "execution_count": 5,
   "metadata": {},
   "outputs": [],
   "source": [
    "def eurostatData(indicator, start, end, retry_count):\n",
    "    df = web.DataReader(indicator, 'eurostat', start=start, end=end, retry_count=retry_count)\n",
    "    \n",
    "    return d"
   ]
  },
  {
   "cell_type": "code",
   "execution_count": 6,
   "metadata": {},
   "outputs": [],
   "source": [
    "def getFileFromStooq(url):\n",
    "    \"\"\"\n",
    "    \n",
    "    \"\"\"\n",
    "    r = requests.get(url, allow_redirects=True)\n",
    "    if url.find('/'):\n",
    "        filename = url.rsplit('/')[-1]\n",
    "    open('../data/raw/{}'.format(filename), 'wb').write(r.content)\n",
    "    if filename.endswith('.zip'):\n",
    "        z = ZipFile('../data/raw/{}'.format(filename))\n",
    "        z.extractall('../data/raw')"
   ]
  },
  {
   "cell_type": "code",
   "execution_count": 10,
   "metadata": {},
   "outputs": [
    {
     "name": "stdout",
     "output_type": "stream",
     "text": [
      "trying extract\n"
     ]
    }
   ],
   "source": [
    "getFileFromStooq('https://static.stooq.com/db/h/d_world_txt.zip')"
   ]
  },
  {
   "cell_type": "code",
   "execution_count": 7,
   "metadata": {},
   "outputs": [],
   "source": [
    "def saveData(df, source, indicator):\n",
    "    df.to_parquet('../data/raw/{0}_{1}.parquet'.format(source, indicator))"
   ]
  },
  {
   "cell_type": "code",
   "execution_count": 5,
   "metadata": {},
   "outputs": [],
   "source": [
    "dataSources = loadDataSouces()"
   ]
  },
  {
   "cell_type": "code",
   "execution_count": null,
   "metadata": {},
   "outputs": [],
   "source": []
  },
  {
   "cell_type": "code",
   "execution_count": 8,
   "metadata": {},
   "outputs": [],
   "source": [
    "file_dirs = []\n",
    "for root, dirs, files in os.walk('../data/raw/data', topdown=True):\n",
    "    if files:\n",
    "        for f in files:\n",
    "            file_dirs.append(os.path.join(root, f))"
   ]
  },
  {
   "cell_type": "code",
   "execution_count": 9,
   "metadata": {},
   "outputs": [],
   "source": [
    "data_dirs = pd.DataFrame(file_dirs, columns=['location'])"
   ]
  },
  {
   "cell_type": "code",
   "execution_count": 10,
   "metadata": {},
   "outputs": [],
   "source": [
    "data_dirs['instrument_type'] = data_dirs.location.str.split('/').str.get(6)"
   ]
  },
  {
   "cell_type": "code",
   "execution_count": 11,
   "metadata": {},
   "outputs": [],
   "source": [
    "data_dirs['instrument'] = data_dirs.location.str.split('/').str.get(7).str.replace('.txt', '')"
   ]
  },
  {
   "cell_type": "code",
   "execution_count": 12,
   "metadata": {},
   "outputs": [
    {
     "data": {
      "text/plain": [
       "currencies\\other        1928\n",
       "commodities              530\n",
       "commodities cash         229\n",
       "cryptocurrencies         110\n",
       "money market              81\n",
       "currencies\\major          66\n",
       "indices                   61\n",
       "bonds                     32\n",
       "lme                       18\n",
       "stooq stocks indices      13\n",
       "Name: instrument_type, dtype: int64"
      ]
     },
     "execution_count": 12,
     "metadata": {},
     "output_type": "execute_result"
    }
   ],
   "source": [
    "data_dirs.instrument_type.value_counts()"
   ]
  },
  {
   "cell_type": "code",
   "execution_count": 13,
   "metadata": {},
   "outputs": [
    {
     "data": {
      "text/html": [
       "<div>\n",
       "<style scoped>\n",
       "    .dataframe tbody tr th:only-of-type {\n",
       "        vertical-align: middle;\n",
       "    }\n",
       "\n",
       "    .dataframe tbody tr th {\n",
       "        vertical-align: top;\n",
       "    }\n",
       "\n",
       "    .dataframe thead th {\n",
       "        text-align: right;\n",
       "    }\n",
       "</style>\n",
       "<table border=\"1\" class=\"dataframe\">\n",
       "  <thead>\n",
       "    <tr style=\"text-align: right;\">\n",
       "      <th></th>\n",
       "      <th>location</th>\n",
       "      <th>instrument_type</th>\n",
       "      <th>instrument</th>\n",
       "    </tr>\n",
       "  </thead>\n",
       "  <tbody>\n",
       "    <tr>\n",
       "      <th>0</th>\n",
       "      <td>../data/raw/data/daily/world/lme/na_c.f.txt</td>\n",
       "      <td>lme</td>\n",
       "      <td>na_c.f</td>\n",
       "    </tr>\n",
       "    <tr>\n",
       "      <th>1</th>\n",
       "      <td>../data/raw/data/daily/world/lme/ah_3.f.txt</td>\n",
       "      <td>lme</td>\n",
       "      <td>ah_3.f</td>\n",
       "    </tr>\n",
       "    <tr>\n",
       "      <th>2</th>\n",
       "      <td>../data/raw/data/daily/world/lme/zs_3.f.txt</td>\n",
       "      <td>lme</td>\n",
       "      <td>zs_3.f</td>\n",
       "    </tr>\n",
       "    <tr>\n",
       "      <th>3</th>\n",
       "      <td>../data/raw/data/daily/world/lme/ni_c.f.txt</td>\n",
       "      <td>lme</td>\n",
       "      <td>ni_c.f</td>\n",
       "    </tr>\n",
       "    <tr>\n",
       "      <th>4</th>\n",
       "      <td>../data/raw/data/daily/world/lme/sn_c.f.txt</td>\n",
       "      <td>lme</td>\n",
       "      <td>sn_c.f</td>\n",
       "    </tr>\n",
       "  </tbody>\n",
       "</table>\n",
       "</div>"
      ],
      "text/plain": [
       "                                      location instrument_type instrument\n",
       "0  ../data/raw/data/daily/world/lme/na_c.f.txt             lme     na_c.f\n",
       "1  ../data/raw/data/daily/world/lme/ah_3.f.txt             lme     ah_3.f\n",
       "2  ../data/raw/data/daily/world/lme/zs_3.f.txt             lme     zs_3.f\n",
       "3  ../data/raw/data/daily/world/lme/ni_c.f.txt             lme     ni_c.f\n",
       "4  ../data/raw/data/daily/world/lme/sn_c.f.txt             lme     sn_c.f"
      ]
     },
     "execution_count": 13,
     "metadata": {},
     "output_type": "execute_result"
    }
   ],
   "source": [
    "data_dirs.head()"
   ]
  },
  {
   "cell_type": "code",
   "execution_count": 14,
   "metadata": {},
   "outputs": [],
   "source": [
    "data_dirs.loc[0, 'parquet_location'] = '../data/processed/stooq/df.parquet'"
   ]
  },
  {
   "cell_type": "code",
   "execution_count": 15,
   "metadata": {},
   "outputs": [],
   "source": [
    "for index, row in data_dirs.iterrows():\n",
    "    df = pd.read_csv(row['location'], parse_dates=['<DATE>'])\n",
    "    df.columns = [x.replace('<', '').replace('>', '') for x in df.columns.values]\n",
    "    df.to_parquet('../data/processed/stooq/{0}.parquet'.format(row['instrument']), index=None)\n",
    "    data_dirs.loc[index, 'parquet_location'] = '../data/processed/stooq/{0}.parquet'.format(row['instrument'])"
   ]
  },
  {
   "cell_type": "code",
   "execution_count": 17,
   "metadata": {},
   "outputs": [],
   "source": [
    "data_dirs.to_parquet('../data/processed/data_dirs.parquet', index=None)"
   ]
  },
  {
   "cell_type": "code",
   "execution_count": null,
   "metadata": {},
   "outputs": [],
   "source": []
  }
 ],
 "metadata": {
  "kernelspec": {
   "display_name": "Python 3",
   "language": "python",
   "name": "python3"
  },
  "language_info": {
   "codemirror_mode": {
    "name": "ipython",
    "version": 3
   },
   "file_extension": ".py",
   "mimetype": "text/x-python",
   "name": "python",
   "nbconvert_exporter": "python",
   "pygments_lexer": "ipython3",
   "version": "3.8.5"
  }
 },
 "nbformat": 4,
 "nbformat_minor": 4
}
