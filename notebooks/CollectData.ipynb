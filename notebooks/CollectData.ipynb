{
 "cells": [
  {
   "cell_type": "code",
   "execution_count": 1,
   "metadata": {},
   "outputs": [],
   "source": [
    "import numpy as np\n",
    "import pandas as pd\n",
    "\n",
    "import pandas_datareader.data as web\n",
    "from pandas_datareader import wb\n",
    "\n",
    "import dask\n",
    "import dask.dataframe as dd\n",
    "\n",
    "import datetime\n",
    "\n",
    "import requests\n",
    "from zipfile import ZipFile"
   ]
  },
  {
   "cell_type": "code",
   "execution_count": 2,
   "metadata": {},
   "outputs": [],
   "source": [
    "def worldBandData(indicator, endDate, col_name):\n",
    "    \"\"\"\n",
    "    \n",
    "    \"\"\"\n",
    "    df = wb.download(country='All', indicator=indicator, start=1960, end=endDate)\n",
    "    df.columns = ['GDP_growth_annual_perc']\n",
    "    return df"
   ]
  },
  {
   "cell_type": "code",
   "execution_count": 3,
   "metadata": {},
   "outputs": [],
   "source": [
    "def stooqData(indicator):\n",
    "    \"\"\"\n",
    "    \n",
    "    \"\"\"\n",
    "    df = web.DataReader(indicator, 'stooq')\n",
    "    \n",
    "    return df"
   ]
  },
  {
   "cell_type": "code",
   "execution_count": 4,
   "metadata": {},
   "outputs": [],
   "source": [
    "def loadDataSouces():\n",
    "    df = pd.read_csv('../data/raw/dataSource.csv')\n",
    "    return df"
   ]
  },
  {
   "cell_type": "code",
   "execution_count": 5,
   "metadata": {},
   "outputs": [],
   "source": [
    "def eurostatData(indicator, start, end, retry_count):\n",
    "    df = web.DataReader(indicator, 'eurostat', start=start, end=end, retry_count=retry_count)\n",
    "    \n",
    "    return d"
   ]
  },
  {
   "cell_type": "code",
   "execution_count": 9,
   "metadata": {},
   "outputs": [],
   "source": [
    "def getFileFromStooq(url):\n",
    "    \"\"\"\n",
    "    \n",
    "    \"\"\"\n",
    "    r = requests.get(url, allow_redirects=True)\n",
    "    if url.find('/'):\n",
    "        filename = url.rsplit('/')[-1]\n",
    "    open('../data/raw/{}'.format(filename), 'wb').write(r.content)\n",
    "    if filename.endswith('.zip'):\n",
    "        z = ZipFile('../data/raw/{}'.format(filename))\n",
    "        z.extractall('../data/raw')"
   ]
  },
  {
   "cell_type": "code",
   "execution_count": 15,
   "metadata": {},
   "outputs": [],
   "source": [
    "z = ZipFile('../data/raw/d_world_txt.zip')"
   ]
  },
  {
   "cell_type": "code",
   "execution_count": 16,
   "metadata": {},
   "outputs": [],
   "source": [
    "z.extractall('../data/raw/')"
   ]
  },
  {
   "cell_type": "code",
   "execution_count": 10,
   "metadata": {},
   "outputs": [
    {
     "name": "stdout",
     "output_type": "stream",
     "text": [
      "trying extract\n"
     ]
    }
   ],
   "source": [
    "getFileFromStooq('https://static.stooq.com/db/h/d_world_txt.zip')"
   ]
  },
  {
   "cell_type": "code",
   "execution_count": 4,
   "metadata": {},
   "outputs": [],
   "source": [
    "def saveData(df, source, indicator):\n",
    "    df.to_parquet('../data/raw/{0}_{1}.parquet'.format(source, indicator))"
   ]
  },
  {
   "cell_type": "code",
   "execution_count": 5,
   "metadata": {},
   "outputs": [],
   "source": [
    "dataSources = loadDataSouces()"
   ]
  },
  {
   "cell_type": "code",
   "execution_count": null,
   "metadata": {},
   "outputs": [],
   "source": []
  },
  {
   "cell_type": "code",
   "execution_count": 17,
   "metadata": {},
   "outputs": [],
   "source": [
    "https://static.stooq.com/db/h/d_world_txt.zip"
   ]
  },
  {
   "cell_type": "code",
   "execution_count": null,
   "metadata": {},
   "outputs": [],
   "source": [
    "d.columns"
   ]
  },
  {
   "cell_type": "code",
   "execution_count": 18,
   "metadata": {},
   "outputs": [
    {
     "data": {
      "text/html": [
       "<div>\n",
       "<style scoped>\n",
       "    .dataframe tbody tr th:only-of-type {\n",
       "        vertical-align: middle;\n",
       "    }\n",
       "\n",
       "    .dataframe tbody tr th {\n",
       "        vertical-align: top;\n",
       "    }\n",
       "\n",
       "    .dataframe thead tr th {\n",
       "        text-align: left;\n",
       "    }\n",
       "\n",
       "    .dataframe thead tr:last-of-type th {\n",
       "        text-align: right;\n",
       "    }\n",
       "</style>\n",
       "<table border=\"1\" class=\"dataframe\">\n",
       "  <thead>\n",
       "    <tr>\n",
       "      <th>STK_FLOW</th>\n",
       "      <th colspan=\"10\" halign=\"left\">Exports</th>\n",
       "      <th>...</th>\n",
       "      <th colspan=\"10\" halign=\"left\">Imports</th>\n",
       "    </tr>\n",
       "    <tr>\n",
       "      <th>PARTNER</th>\n",
       "      <th colspan=\"10\" halign=\"left\">United Arab Emirates</th>\n",
       "      <th>...</th>\n",
       "      <th colspan=\"10\" halign=\"left\">All countries of the world</th>\n",
       "    </tr>\n",
       "    <tr>\n",
       "      <th>UNIT</th>\n",
       "      <th colspan=\"10\" halign=\"left\">Thousand euro</th>\n",
       "      <th>...</th>\n",
       "      <th colspan=\"10\" halign=\"left\">Thousand euro</th>\n",
       "    </tr>\n",
       "    <tr>\n",
       "      <th>PROD_SP</th>\n",
       "      <th colspan=\"10\" halign=\"left\">Tennis balls, inflatable balls, other balls (excl. golf balls, and table-tennis balls)</th>\n",
       "      <th>...</th>\n",
       "      <th colspan=\"10\" halign=\"left\">Vessels, sailboats, other water-sport boats and water-sport equipment</th>\n",
       "    </tr>\n",
       "    <tr>\n",
       "      <th>GEO</th>\n",
       "      <th>Albania</th>\n",
       "      <th>Austria</th>\n",
       "      <th>Belgium</th>\n",
       "      <th>Bulgaria</th>\n",
       "      <th>Switzerland</th>\n",
       "      <th>Cyprus</th>\n",
       "      <th>Czechia</th>\n",
       "      <th>Germany (until 1990 former territory of the FRG)</th>\n",
       "      <th>Denmark</th>\n",
       "      <th>Estonia</th>\n",
       "      <th>...</th>\n",
       "      <th>Norway</th>\n",
       "      <th>Poland</th>\n",
       "      <th>Portugal</th>\n",
       "      <th>Romania</th>\n",
       "      <th>Serbia</th>\n",
       "      <th>Sweden</th>\n",
       "      <th>Slovenia</th>\n",
       "      <th>Slovakia</th>\n",
       "      <th>Turkey</th>\n",
       "      <th>United Kingdom</th>\n",
       "    </tr>\n",
       "    <tr>\n",
       "      <th>FREQ</th>\n",
       "      <th>Annual</th>\n",
       "      <th>Annual</th>\n",
       "      <th>Annual</th>\n",
       "      <th>Annual</th>\n",
       "      <th>Annual</th>\n",
       "      <th>Annual</th>\n",
       "      <th>Annual</th>\n",
       "      <th>Annual</th>\n",
       "      <th>Annual</th>\n",
       "      <th>Annual</th>\n",
       "      <th>...</th>\n",
       "      <th>Annual</th>\n",
       "      <th>Annual</th>\n",
       "      <th>Annual</th>\n",
       "      <th>Annual</th>\n",
       "      <th>Annual</th>\n",
       "      <th>Annual</th>\n",
       "      <th>Annual</th>\n",
       "      <th>Annual</th>\n",
       "      <th>Annual</th>\n",
       "      <th>Annual</th>\n",
       "    </tr>\n",
       "    <tr>\n",
       "      <th>TIME_PERIOD</th>\n",
       "      <th></th>\n",
       "      <th></th>\n",
       "      <th></th>\n",
       "      <th></th>\n",
       "      <th></th>\n",
       "      <th></th>\n",
       "      <th></th>\n",
       "      <th></th>\n",
       "      <th></th>\n",
       "      <th></th>\n",
       "      <th></th>\n",
       "      <th></th>\n",
       "      <th></th>\n",
       "      <th></th>\n",
       "      <th></th>\n",
       "      <th></th>\n",
       "      <th></th>\n",
       "      <th></th>\n",
       "      <th></th>\n",
       "      <th></th>\n",
       "      <th></th>\n",
       "    </tr>\n",
       "  </thead>\n",
       "  <tbody>\n",
       "    <tr>\n",
       "      <th>2018-01-01</th>\n",
       "      <td>NaN</td>\n",
       "      <td>0.06</td>\n",
       "      <td>0.56</td>\n",
       "      <td>NaN</td>\n",
       "      <td>5.0</td>\n",
       "      <td>NaN</td>\n",
       "      <td>0.03</td>\n",
       "      <td>186.0</td>\n",
       "      <td>28.0</td>\n",
       "      <td>NaN</td>\n",
       "      <td>...</td>\n",
       "      <td>NaN</td>\n",
       "      <td>35856.0</td>\n",
       "      <td>30568.0</td>\n",
       "      <td>9515.0</td>\n",
       "      <td>4221.0</td>\n",
       "      <td>140325.0</td>\n",
       "      <td>32942.0</td>\n",
       "      <td>5513.0</td>\n",
       "      <td>403929.0</td>\n",
       "      <td>263460.0</td>\n",
       "    </tr>\n",
       "  </tbody>\n",
       "</table>\n",
       "<p>1 rows × 64904 columns</p>\n",
       "</div>"
      ],
      "text/plain": [
       "STK_FLOW                                                                                   Exports  \\\n",
       "PARTNER                                                                       United Arab Emirates   \n",
       "UNIT                                                                                 Thousand euro   \n",
       "PROD_SP     Tennis balls, inflatable balls, other balls (excl. golf balls, and table-tennis balls)   \n",
       "GEO                                                                                        Albania   \n",
       "FREQ                                                                                        Annual   \n",
       "TIME_PERIOD                                                                                          \n",
       "2018-01-01                                                 NaN                                       \n",
       "\n",
       "STK_FLOW                                                         \\\n",
       "PARTNER                                                           \n",
       "UNIT                                                              \n",
       "PROD_SP                                                           \n",
       "GEO         Austria Belgium Bulgaria Switzerland Cyprus Czechia   \n",
       "FREQ         Annual  Annual   Annual      Annual Annual  Annual   \n",
       "TIME_PERIOD                                                       \n",
       "2018-01-01     0.06    0.56      NaN         5.0    NaN    0.03   \n",
       "\n",
       "STK_FLOW                                                                      \\\n",
       "PARTNER                                                                        \n",
       "UNIT                                                                           \n",
       "PROD_SP                                                                        \n",
       "GEO         Germany (until 1990 former territory of the FRG) Denmark Estonia   \n",
       "FREQ                                                  Annual  Annual  Annual   \n",
       "TIME_PERIOD                                                                    \n",
       "2018-01-01                                             186.0    28.0     NaN   \n",
       "\n",
       "STK_FLOW     ...  \\\n",
       "PARTNER      ...   \n",
       "UNIT         ...   \n",
       "PROD_SP      ...   \n",
       "GEO          ...   \n",
       "FREQ         ...   \n",
       "TIME_PERIOD  ...   \n",
       "2018-01-01   ...   \n",
       "\n",
       "STK_FLOW                                                                  Imports  \\\n",
       "PARTNER                                                All countries of the world   \n",
       "UNIT                                                                Thousand euro   \n",
       "PROD_SP     Vessels, sailboats, other water-sport boats and water-sport equipment   \n",
       "GEO                                                                        Norway   \n",
       "FREQ                                                                       Annual   \n",
       "TIME_PERIOD                                                                         \n",
       "2018-01-01                                                 NaN                      \n",
       "\n",
       "STK_FLOW                                                                   \\\n",
       "PARTNER                                                                     \n",
       "UNIT                                                                        \n",
       "PROD_SP                                                                     \n",
       "GEO           Poland Portugal Romania  Serbia    Sweden Slovenia Slovakia   \n",
       "FREQ          Annual   Annual  Annual  Annual    Annual   Annual   Annual   \n",
       "TIME_PERIOD                                                                 \n",
       "2018-01-01   35856.0  30568.0  9515.0  4221.0  140325.0  32942.0   5513.0   \n",
       "\n",
       "STK_FLOW                              \n",
       "PARTNER                               \n",
       "UNIT                                  \n",
       "PROD_SP                               \n",
       "GEO            Turkey United Kingdom  \n",
       "FREQ           Annual         Annual  \n",
       "TIME_PERIOD                           \n",
       "2018-01-01   403929.0       263460.0  \n",
       "\n",
       "[1 rows x 64904 columns]"
      ]
     },
     "execution_count": 18,
     "metadata": {},
     "output_type": "execute_result"
    }
   ],
   "source": [
    "d"
   ]
  },
  {
   "cell_type": "code",
   "execution_count": null,
   "metadata": {},
   "outputs": [],
   "source": []
  }
 ],
 "metadata": {
  "kernelspec": {
   "display_name": "Python 3",
   "language": "python",
   "name": "python3"
  },
  "language_info": {
   "codemirror_mode": {
    "name": "ipython",
    "version": 3
   },
   "file_extension": ".py",
   "mimetype": "text/x-python",
   "name": "python",
   "nbconvert_exporter": "python",
   "pygments_lexer": "ipython3",
   "version": "3.8.5"
  }
 },
 "nbformat": 4,
 "nbformat_minor": 4
}
