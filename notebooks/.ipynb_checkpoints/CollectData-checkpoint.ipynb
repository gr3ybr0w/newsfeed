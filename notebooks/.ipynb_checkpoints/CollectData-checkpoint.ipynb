{
 "cells": [
  {
   "cell_type": "code",
   "execution_count": 1,
   "metadata": {},
   "outputs": [],
   "source": [
    "import numpy as np\n",
    "import pandas as pd\n",
    "\n",
    "import pandas_datareader.data as web\n",
    "from pandas_datareader import wb\n",
    "\n",
    "import dask\n",
    "import dask.dataframe as dd\n",
    "\n",
    "import datetime\n",
    "\n",
    "import requests\n",
    "from zipfile import ZipFile\n",
    "\n",
    "import os"
   ]
  },
  {
   "cell_type": "code",
   "execution_count": 2,
   "metadata": {},
   "outputs": [],
   "source": [
    "def worldBandData(indicator, endDate, col_name):\n",
    "    \"\"\"\n",
    "    \n",
    "    \"\"\"\n",
    "    df = wb.download(country='All', indicator=indicator, start=1960, end=endDate)\n",
    "    df.columns = ['GDP_growth_annual_perc']\n",
    "    return df"
   ]
  },
  {
   "cell_type": "code",
   "execution_count": 3,
   "metadata": {},
   "outputs": [],
   "source": [
    "def stooqData(indicator):\n",
    "    \"\"\"\n",
    "    \n",
    "    \"\"\"\n",
    "    df = web.DataReader(indicator, 'stooq')\n",
    "    \n",
    "    return df"
   ]
  },
  {
   "cell_type": "code",
   "execution_count": 4,
   "metadata": {},
   "outputs": [],
   "source": [
    "def loadDataSouces():\n",
    "    df = pd.read_csv('../data/raw/dataSource.csv')\n",
    "    return df"
   ]
  },
  {
   "cell_type": "code",
   "execution_count": 5,
   "metadata": {},
   "outputs": [],
   "source": [
    "def eurostatData(indicator, start, end, retry_count):\n",
    "    df = web.DataReader(indicator, 'eurostat', start=start, end=end, retry_count=retry_count)\n",
    "    \n",
    "    return d"
   ]
  },
  {
   "cell_type": "code",
   "execution_count": 6,
   "metadata": {},
   "outputs": [],
   "source": [
    "def getFileFromStooq(url):\n",
    "    \"\"\"\n",
    "    \n",
    "    \"\"\"\n",
    "    r = requests.get(url, allow_redirects=True)\n",
    "    if url.find('/'):\n",
    "        filename = url.rsplit('/')[-1]\n",
    "    open('../data/raw/{}'.format(filename), 'wb').write(r.content)\n",
    "    if filename.endswith('.zip'):\n",
    "        z = ZipFile('../data/raw/{}'.format(filename))\n",
    "        z.extractall('../data/raw')"
   ]
  },
  {
   "cell_type": "code",
   "execution_count": 10,
   "metadata": {},
   "outputs": [
    {
     "name": "stdout",
     "output_type": "stream",
     "text": [
      "trying extract\n"
     ]
    }
   ],
   "source": [
    "getFileFromStooq('https://static.stooq.com/db/h/d_world_txt.zip')"
   ]
  },
  {
   "cell_type": "code",
   "execution_count": 7,
   "metadata": {},
   "outputs": [],
   "source": [
    "def saveData(df, source, indicator):\n",
    "    df.to_parquet('../data/raw/{0}_{1}.parquet'.format(source, indicator))"
   ]
  },
  {
   "cell_type": "code",
   "execution_count": 5,
   "metadata": {},
   "outputs": [],
   "source": [
    "dataSources = loadDataSouces()"
   ]
  },
  {
   "cell_type": "code",
   "execution_count": null,
   "metadata": {},
   "outputs": [],
   "source": []
  },
  {
   "cell_type": "code",
   "execution_count": 8,
   "metadata": {},
   "outputs": [
    {
     "data": {
      "text/plain": [
       "<generator object walk at 0x7f21d52ce6d0>"
      ]
     },
     "execution_count": 8,
     "metadata": {},
     "output_type": "execute_result"
    }
   ],
   "source": [
    "os.walk('../data/raw/data')"
   ]
  },
  {
   "cell_type": "code",
   "execution_count": 11,
   "metadata": {},
   "outputs": [],
   "source": [
    "file_dirs = []\n",
    "for root, dirs, files in os.walk('../data/raw/data', topdown=True):\n",
    "    if files:\n",
    "        for f in files:\n",
    "            file_dirs.append(os.path.join(root, f))"
   ]
  },
  {
   "cell_type": "code",
   "execution_count": 19,
   "metadata": {},
   "outputs": [
    {
     "data": {
      "text/html": [
       "<div>\n",
       "<style scoped>\n",
       "    .dataframe tbody tr th:only-of-type {\n",
       "        vertical-align: middle;\n",
       "    }\n",
       "\n",
       "    .dataframe tbody tr th {\n",
       "        vertical-align: top;\n",
       "    }\n",
       "\n",
       "    .dataframe thead th {\n",
       "        text-align: right;\n",
       "    }\n",
       "</style>\n",
       "<table border=\"1\" class=\"dataframe\">\n",
       "  <thead>\n",
       "    <tr style=\"text-align: right;\">\n",
       "      <th></th>\n",
       "      <th>0</th>\n",
       "    </tr>\n",
       "  </thead>\n",
       "  <tbody>\n",
       "    <tr>\n",
       "      <th>0</th>\n",
       "      <td>../data/raw/data/daily/world/lme/na_c.f.txt</td>\n",
       "    </tr>\n",
       "    <tr>\n",
       "      <th>1</th>\n",
       "      <td>../data/raw/data/daily/world/lme/ah_3.f.txt</td>\n",
       "    </tr>\n",
       "    <tr>\n",
       "      <th>2</th>\n",
       "      <td>../data/raw/data/daily/world/lme/zs_3.f.txt</td>\n",
       "    </tr>\n",
       "    <tr>\n",
       "      <th>3</th>\n",
       "      <td>../data/raw/data/daily/world/lme/ni_c.f.txt</td>\n",
       "    </tr>\n",
       "    <tr>\n",
       "      <th>4</th>\n",
       "      <td>../data/raw/data/daily/world/lme/sn_c.f.txt</td>\n",
       "    </tr>\n",
       "    <tr>\n",
       "      <th>...</th>\n",
       "      <td>...</td>\n",
       "    </tr>\n",
       "    <tr>\n",
       "      <th>3064</th>\n",
       "      <td>../data/raw/data/daily/world/indices/^smi.txt</td>\n",
       "    </tr>\n",
       "    <tr>\n",
       "      <th>3065</th>\n",
       "      <td>../data/raw/data/daily/world/indices/^ipsa.txt</td>\n",
       "    </tr>\n",
       "    <tr>\n",
       "      <th>3066</th>\n",
       "      <td>../data/raw/data/daily/world/indices/^snx.txt</td>\n",
       "    </tr>\n",
       "    <tr>\n",
       "      <th>3067</th>\n",
       "      <td>../data/raw/data/daily/world/indices/^aor.txt</td>\n",
       "    </tr>\n",
       "    <tr>\n",
       "      <th>3068</th>\n",
       "      <td>../data/raw/data/daily/world/indices/^cdax.txt</td>\n",
       "    </tr>\n",
       "  </tbody>\n",
       "</table>\n",
       "<p>3069 rows × 1 columns</p>\n",
       "</div>"
      ],
      "text/plain": [
       "                                                   0\n",
       "0        ../data/raw/data/daily/world/lme/na_c.f.txt\n",
       "1        ../data/raw/data/daily/world/lme/ah_3.f.txt\n",
       "2        ../data/raw/data/daily/world/lme/zs_3.f.txt\n",
       "3        ../data/raw/data/daily/world/lme/ni_c.f.txt\n",
       "4        ../data/raw/data/daily/world/lme/sn_c.f.txt\n",
       "...                                              ...\n",
       "3064   ../data/raw/data/daily/world/indices/^smi.txt\n",
       "3065  ../data/raw/data/daily/world/indices/^ipsa.txt\n",
       "3066   ../data/raw/data/daily/world/indices/^snx.txt\n",
       "3067   ../data/raw/data/daily/world/indices/^aor.txt\n",
       "3068  ../data/raw/data/daily/world/indices/^cdax.txt\n",
       "\n",
       "[3069 rows x 1 columns]"
      ]
     },
     "execution_count": 19,
     "metadata": {},
     "output_type": "execute_result"
    }
   ],
   "source": [
    "pd.DataFrame(file_dirs)"
   ]
  },
  {
   "cell_type": "code",
   "execution_count": null,
   "metadata": {},
   "outputs": [],
   "source": []
  }
 ],
 "metadata": {
  "kernelspec": {
   "display_name": "Python 3",
   "language": "python",
   "name": "python3"
  },
  "language_info": {
   "codemirror_mode": {
    "name": "ipython",
    "version": 3
   },
   "file_extension": ".py",
   "mimetype": "text/x-python",
   "name": "python",
   "nbconvert_exporter": "python",
   "pygments_lexer": "ipython3",
   "version": "3.8.5"
  }
 },
 "nbformat": 4,
 "nbformat_minor": 4
}
