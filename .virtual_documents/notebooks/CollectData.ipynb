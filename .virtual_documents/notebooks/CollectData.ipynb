import numpy as np
import pandas as pd

import pandas_datareader.data as web
from pandas_datareader import wb

import dask
import dask.dataframe as dd

import datetime


def worldBandData(indicator, endDate, col_name):
    df = wb.download(country='All', indicator=indicator, start=1960, end=endDate)
    df.columns = ['GDP_growth_annual_perc']
    return df


def loadDataSouces():
    df = pd.read_csv('../data/raw/dataSource.csv')
    return df


def saveData(df, source, indicator):
    df.to_parquet('../data/raw/{0}_{1}.parquet'.format(source, indicator))


dataSources = loadDataSouces()


dataSources


wb.download(country='All', indicator="SP.POP.GROW", start=1960, end=2020)


GDP_growth_annual_perc = wb.download(country='All', indicator="NY.GDP.MKTP.KD.ZG", start=1960, end=2020)





GDP_growth_annual_perc.columns = ['GDP_growth_annual_perc']


GDP_growth_annual_perc.xs('United Kingdom', level=0)


GDP_growth_annual_perc.to_parquet('../data/raw/WorldBank_GDP_growth_annual_perc.parquet')


f = web.DataReader('', 'stooq')


f






