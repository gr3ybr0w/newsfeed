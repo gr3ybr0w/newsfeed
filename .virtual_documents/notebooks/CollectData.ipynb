import numpy as np
import pandas as pd

import pandas_datareader.data as web
from pandas_datareader import wb

import dask
import dask.dataframe as dd


matches = wb.search('gdp.*capita.*const')


matches


GDP_growth_annual_perc = wb.download(country='All', indicator="NY.GDP.MKTP.KD.ZG", start=1960, end=2020)


GDP_growth_annual_perc.columns = ['GDP_growth_annual_perc']


GDP_growth_annual_perc.xs('United Kingdom', level=0)


f = web.DataReader('', 'stooq')


f






